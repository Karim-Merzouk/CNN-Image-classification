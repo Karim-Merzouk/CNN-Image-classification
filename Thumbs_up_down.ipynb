{
 "cells": [
  {
   "cell_type": "code",
   "execution_count": 1,
   "id": "912058b3-26fe-4fab-9177-f03bac874d97",
   "metadata": {},
   "outputs": [
    {
     "name": "stdout",
     "output_type": "stream",
     "text": [
      "time: 0 ns (started: 2024-07-10 14:07:01 +01:00)\n"
     ]
    }
   ],
   "source": [
    "#Data:images\n",
    "# Download manually images from google\n",
    "#download dataset from kaggle.Com\n",
    "#build an image web crawler\n",
    "#Use python librairies to scrape images.\n",
    "\n",
    "\n",
    "\n",
    "# !pip install ipython-autotime\n",
    "%load_ext autotime\n"
   ]
  },
  {
   "cell_type": "code",
   "execution_count": 2,
   "id": "4b3c3f3a-4bcc-47f5-b508-1456b3363da9",
   "metadata": {},
   "outputs": [
    {
     "name": "stdout",
     "output_type": "stream",
     "text": [
      "time: 0 ns (started: 2024-07-10 14:07:01 +01:00)\n"
     ]
    }
   ],
   "source": [
    "# !pip install bing_image_downloader"
   ]
  },
  {
   "cell_type": "code",
   "execution_count": 3,
   "id": "6ce026e0-89c6-485b-9dfd-df7b0d1921ad",
   "metadata": {},
   "outputs": [
    {
     "name": "stdout",
     "output_type": "stream",
     "text": [
      "time: 0 ns (started: 2024-07-10 14:07:01 +01:00)\n"
     ]
    }
   ],
   "source": [
    "# !mkdir samples\n"
   ]
  },
  {
   "cell_type": "code",
   "execution_count": null,
   "id": "f4ee9583-016f-4306-afda-c1913e106704",
   "metadata": {},
   "outputs": [],
   "source": []
  },
  {
   "cell_type": "code",
   "execution_count": 5,
   "id": "6a4da52c-edd3-4e6b-959f-61fa0eda8e3b",
   "metadata": {},
   "outputs": [
    {
     "name": "stdout",
     "output_type": "stream",
     "text": [
      "time: 0 ns (started: 2024-07-10 14:07:01 +01:00)\n"
     ]
    }
   ],
   "source": [
    "# from bing_image_downloader import downloader \n",
    "\n"
   ]
  },
  {
   "cell_type": "code",
   "execution_count": 6,
   "id": "e3dce1c1-820c-4265-baba-e6ed172605e3",
   "metadata": {},
   "outputs": [
    {
     "name": "stdout",
     "output_type": "stream",
     "text": [
      "time: 15 ms (started: 2024-07-10 14:07:01 +01:00)\n"
     ]
    }
   ],
   "source": [
    "# from bing_image_downloader import downloader \n",
    "\n"
   ]
  },
  {
   "cell_type": "code",
   "execution_count": 27,
   "id": "91b4fb02-38b6-4e85-97f3-c2f7cf913138",
   "metadata": {},
   "outputs": [
    {
     "name": "stdout",
     "output_type": "stream",
     "text": [
      "time: 0 ns (started: 2024-07-10 14:16:34 +01:00)\n"
     ]
    }
   ],
   "source": [
    "import os\n",
    "import numpy as np\n",
    "from skimage.io import imread\n",
    "from skimage.transform import resize\n",
    "import matplotlib.pyplot as plt\n",
    "from sklearn.model_selection import train_test_split\n",
    "from tensorflow.keras.utils import to_categorical\n"
   ]
  },
  {
   "cell_type": "code",
   "execution_count": null,
   "id": "5d26be54-7596-4f11-9dde-d328db62ede2",
   "metadata": {},
   "outputs": [],
   "source": []
  },
  {
   "cell_type": "code",
   "execution_count": 28,
   "id": "2ef3cd93-7149-4dc7-a566-51e6ce538066",
   "metadata": {},
   "outputs": [
    {
     "name": "stdout",
     "output_type": "stream",
     "text": [
      "time: 9.95 s (started: 2024-07-10 14:17:01 +01:00)\n"
     ]
    }
   ],
   "source": [
    "#Flatten all the datas ( très important ^^ on oublie pas)\n",
    "\n",
    "#1- resizing\n",
    "#2-applatir(flatten)\n",
    "target= []\n",
    "images= []\n",
    "flat_data = []\n",
    "\n",
    "\n",
    "DATADIR = 'samples/'\n",
    "CATEGORIES = ['thumbs down', 'thumbs up']\n",
    "\n",
    "for category in CATEGORIES: \n",
    "    class_num = CATEGORIES.index(category)\n",
    "    path = os.path.join(DATADIR, category)\n",
    "    \n",
    "    for img in os.listdir(path):\n",
    "        \n",
    "        # check file extension\n",
    "        if img.endswith('.jpg') or img.endswith('.jpeg') or img.endswith('.png'):\n",
    "            try:\n",
    "                img_array = imread(os.path.join(path, img))\n",
    "                # print(img_array)\n",
    "                #plt.imshow(img_array)\n",
    "\n",
    "                # resize image to (100, 100) and flatten\n",
    "                img_resized = resize(img_array, (150, 150,3))#normalizes the value from 0 to 1\n",
    "                flat_img = img_resized.flatten()\n",
    "                # append flattened image to list\n",
    "                flat_data.append(flat_img)\n",
    "                images.append(img_resized)\n",
    "                target.append(class_num)\n",
    "            except Exception as e:\n",
    "                print(f\"Error reading file: {img}. {e}\")\n",
    "flat_data = np.array(flat_data)\n",
    "images = np.array(images)\n",
    "target = np.array(target)\n",
    "\n",
    "# Convert target to categorical\n",
    "target = to_categorical(target)\n",
    "\n",
    "# Split data into training and validation sets\n",
    "x_train, x_val, y_train, y_val = train_test_split(images, target, test_size=0.2, random_state=42)\n"
   ]
  },
  {
   "cell_type": "code",
   "execution_count": 29,
   "id": "b1b1e886-d3c7-411e-9166-e7cba99f4553",
   "metadata": {},
   "outputs": [
    {
     "name": "stdout",
     "output_type": "stream",
     "text": [
      "Model: \"sequential_2\"\n",
      "_________________________________________________________________\n",
      " Layer (type)                Output Shape              Param #   \n",
      "=================================================================\n",
      " conv2d_6 (Conv2D)           (None, 148, 148, 32)      896       \n",
      "                                                                 \n",
      " max_pooling2d_6 (MaxPooling  (None, 74, 74, 32)       0         \n",
      " 2D)                                                             \n",
      "                                                                 \n",
      " dropout_8 (Dropout)         (None, 74, 74, 32)        0         \n",
      "                                                                 \n",
      " conv2d_7 (Conv2D)           (None, 72, 72, 64)        18496     \n",
      "                                                                 \n",
      " max_pooling2d_7 (MaxPooling  (None, 36, 36, 64)       0         \n",
      " 2D)                                                             \n",
      "                                                                 \n",
      " dropout_9 (Dropout)         (None, 36, 36, 64)        0         \n",
      "                                                                 \n",
      " conv2d_8 (Conv2D)           (None, 34, 34, 128)       73856     \n",
      "                                                                 \n",
      " max_pooling2d_8 (MaxPooling  (None, 17, 17, 128)      0         \n",
      " 2D)                                                             \n",
      "                                                                 \n",
      " dropout_10 (Dropout)        (None, 17, 17, 128)       0         \n",
      "                                                                 \n",
      " flatten_2 (Flatten)         (None, 36992)             0         \n",
      "                                                                 \n",
      " dense_4 (Dense)             (None, 128)               4735104   \n",
      "                                                                 \n",
      " dropout_11 (Dropout)        (None, 128)               0         \n",
      "                                                                 \n",
      " dense_5 (Dense)             (None, 2)                 258       \n",
      "                                                                 \n",
      "=================================================================\n",
      "Total params: 4,828,610\n",
      "Trainable params: 4,828,610\n",
      "Non-trainable params: 0\n",
      "_________________________________________________________________\n",
      "time: 156 ms (started: 2024-07-10 14:17:20 +01:00)\n"
     ]
    }
   ],
   "source": [
    "from tensorflow.keras.models import Sequential\n",
    "from tensorflow.keras.layers import Conv2D, MaxPooling2D, Flatten, Dense, Dropout\n",
    "\n",
    "model = Sequential()\n",
    "\n",
    "# Convolutional layers\n",
    "model.add(Conv2D(32, (3, 3), activation='relu', input_shape=(150, 150, 3)))\n",
    "model.add(MaxPooling2D((2, 2)))\n",
    "model.add(Dropout(0.25))\n",
    "\n",
    "model.add(Conv2D(64, (3, 3), activation='relu'))\n",
    "model.add(MaxPooling2D((2, 2)))\n",
    "model.add(Dropout(0.25))\n",
    "\n",
    "model.add(Conv2D(128, (3, 3), activation='relu'))\n",
    "model.add(MaxPooling2D((2, 2)))\n",
    "model.add(Dropout(0.25))\n",
    "\n",
    "# Flatten layer\n",
    "model.add(Flatten())\n",
    "\n",
    "# Dense layers\n",
    "model.add(Dense(128, activation='relu'))\n",
    "model.add(Dropout(0.5))\n",
    "model.add(Dense(2, activation='softmax'))  # Binary classification\n",
    "\n",
    "# Model summary\n",
    "model.summary()\n"
   ]
  },
  {
   "cell_type": "code",
   "execution_count": 30,
   "id": "479253cc-dd9b-4ddd-aa11-dd8418e559a2",
   "metadata": {},
   "outputs": [
    {
     "data": {
      "text/plain": [
       "67500"
      ]
     },
     "execution_count": 30,
     "metadata": {},
     "output_type": "execute_result"
    },
    {
     "name": "stdout",
     "output_type": "stream",
     "text": [
      "time: 0 ns (started: 2024-07-10 14:17:38 +01:00)\n"
     ]
    }
   ],
   "source": [
    "len(flat_data[0]) #150*150*3"
   ]
  },
  {
   "cell_type": "raw",
   "id": "71b105d6-4470-47fc-bd9b-53f2d2b51a0d",
   "metadata": {},
   "source": []
  },
  {
   "cell_type": "code",
   "execution_count": 34,
   "id": "0ed5fb3d-e37b-43e1-9d0f-79de67d24331",
   "metadata": {},
   "outputs": [
    {
     "name": "stdout",
     "output_type": "stream",
     "text": [
      "time: 16 ms (started: 2024-07-10 14:22:07 +01:00)\n"
     ]
    }
   ],
   "source": [
    "model.compile(optimizer='adam',\n",
    "              loss='binary_crossentropy',\n",
    "              metrics=['accuracy'])"
   ]
  },
  {
   "cell_type": "code",
   "execution_count": 32,
   "id": "d5d9e196-658d-4928-a973-1aee4f11f1ca",
   "metadata": {},
   "outputs": [
    {
     "name": "stdout",
     "output_type": "stream",
     "text": [
      "Epoch 1/20\n",
      "22/22 [==============================] - 15s 610ms/step - loss: 0.8824 - accuracy: 0.5682 - val_loss: 0.6882 - val_accuracy: 0.5858\n",
      "Epoch 2/20\n",
      "22/22 [==============================] - 12s 560ms/step - loss: 0.6931 - accuracy: 0.5905 - val_loss: 0.6804 - val_accuracy: 0.5858\n",
      "Epoch 3/20\n",
      "22/22 [==============================] - 12s 557ms/step - loss: 0.6799 - accuracy: 0.5950 - val_loss: 0.6776 - val_accuracy: 0.5858\n",
      "Epoch 4/20\n",
      "22/22 [==============================] - 13s 581ms/step - loss: 0.6866 - accuracy: 0.5935 - val_loss: 0.6800 - val_accuracy: 0.5858\n",
      "Epoch 5/20\n",
      "22/22 [==============================] - 13s 571ms/step - loss: 0.6765 - accuracy: 0.5950 - val_loss: 0.6839 - val_accuracy: 0.5858\n",
      "Epoch 6/20\n",
      "22/22 [==============================] - 13s 574ms/step - loss: 0.6745 - accuracy: 0.5950 - val_loss: 0.6879 - val_accuracy: 0.5799\n",
      "Epoch 7/20\n",
      "22/22 [==============================] - 12s 565ms/step - loss: 0.6662 - accuracy: 0.6113 - val_loss: 0.6835 - val_accuracy: 0.5976\n",
      "Epoch 8/20\n",
      "22/22 [==============================] - 13s 587ms/step - loss: 0.6437 - accuracy: 0.6409 - val_loss: 0.6627 - val_accuracy: 0.5917\n",
      "Epoch 9/20\n",
      "22/22 [==============================] - 13s 589ms/step - loss: 0.6144 - accuracy: 0.6677 - val_loss: 0.6587 - val_accuracy: 0.6272\n",
      "Epoch 10/20\n",
      "22/22 [==============================] - 13s 606ms/step - loss: 0.5850 - accuracy: 0.6988 - val_loss: 0.6400 - val_accuracy: 0.6450\n",
      "Epoch 11/20\n",
      "22/22 [==============================] - 12s 558ms/step - loss: 0.5748 - accuracy: 0.6988 - val_loss: 0.6635 - val_accuracy: 0.6331\n",
      "Epoch 12/20\n",
      "22/22 [==============================] - 13s 573ms/step - loss: 0.5351 - accuracy: 0.7389 - val_loss: 0.6714 - val_accuracy: 0.6450\n",
      "Epoch 13/20\n",
      "22/22 [==============================] - 12s 564ms/step - loss: 0.5540 - accuracy: 0.7300 - val_loss: 0.6476 - val_accuracy: 0.6746\n",
      "Epoch 14/20\n",
      "22/22 [==============================] - 12s 535ms/step - loss: 0.4905 - accuracy: 0.7671 - val_loss: 0.6667 - val_accuracy: 0.6746\n",
      "Epoch 15/20\n",
      "22/22 [==============================] - 12s 526ms/step - loss: 0.4345 - accuracy: 0.7864 - val_loss: 0.6894 - val_accuracy: 0.6627\n",
      "Epoch 16/20\n",
      "22/22 [==============================] - 12s 534ms/step - loss: 0.4076 - accuracy: 0.7967 - val_loss: 0.7342 - val_accuracy: 0.6864\n",
      "Epoch 17/20\n",
      "22/22 [==============================] - 12s 536ms/step - loss: 0.3574 - accuracy: 0.8264 - val_loss: 0.7842 - val_accuracy: 0.6450\n",
      "Epoch 18/20\n",
      "22/22 [==============================] - 12s 536ms/step - loss: 0.3333 - accuracy: 0.8279 - val_loss: 0.7527 - val_accuracy: 0.7101\n",
      "Epoch 19/20\n",
      "22/22 [==============================] - 12s 525ms/step - loss: 0.3565 - accuracy: 0.8338 - val_loss: 0.8713 - val_accuracy: 0.6686\n",
      "Epoch 20/20\n",
      "22/22 [==============================] - 12s 536ms/step - loss: 0.3002 - accuracy: 0.8635 - val_loss: 0.9141 - val_accuracy: 0.6923\n",
      "time: 4min 8s (started: 2024-07-10 14:17:58 +01:00)\n"
     ]
    }
   ],
   "source": [
    "history = model.fit(x_train, y_train, \n",
    "                    epochs=20, \n",
    "                    validation_data=(x_val, y_val), \n",
    "                    batch_size=32)\n"
   ]
  },
  {
   "cell_type": "code",
   "execution_count": 36,
   "id": "e0218251-27e3-42d0-a806-fe85e860bb76",
   "metadata": {},
   "outputs": [
    {
     "name": "stdout",
     "output_type": "stream",
     "text": [
      "6/6 [==============================] - 1s 98ms/step - loss: 0.9141 - accuracy: 0.6923\n",
      "Validation Loss: 0.9141122698783875\n",
      "Validation Accuracy: 0.692307710647583\n"
     ]
    },
    {
     "data": {
      "image/png": "[encoded data removed]",
      "text/plain": [
       "<Figure size 1200x400 with 2 Axes>"
      ]
     },
     "metadata": {},
     "output_type": "display_data"
    },
    {
     "name": "stdout",
     "output_type": "stream",
     "text": [
      "time: 1.17 s (started: 2024-07-10 14:22:09 +01:00)\n"
     ]
    }
   ],
   "source": [
    "# Evaluate the model\n",
    "val_loss, val_acc = model.evaluate(x_val, y_val)\n",
    "print(f\"Validation Loss: {val_loss}\")\n",
    "print(f\"Validation Accuracy: {val_acc}\")\n",
    "\n",
    "# Plot training & validation accuracy and loss\n",
    "plt.figure(figsize=(12, 4))\n",
    "\n",
    "plt.subplot(1, 2, 1)\n",
    "plt.plot(history.history['accuracy'], label='Train Accuracy')\n",
    "plt.plot(history.history['val_accuracy'], label='Validation Accuracy')\n",
    "plt.legend()\n",
    "plt.xlabel('Epoch')\n",
    "plt.ylabel('Accuracy')\n",
    "plt.title('Accuracy')\n",
    "\n",
    "plt.subplot(1, 2, 2)\n",
    "plt.plot(history.history['loss'], label='Train Loss')\n",
    "plt.plot(history.history['val_loss'], label='Validation Loss')\n",
    "plt.legend()\n",
    "plt.xlabel('Epoch')\n",
    "plt.ylabel('Loss')\n",
    "plt.title('Loss')\n",
    "\n",
    "plt.show()\n"
   ]
  },
  {
   "cell_type": "code",
   "execution_count": null,
   "id": "54c84f03-63a6-4ccc-b36e-05b96848d61e",
   "metadata": {},
   "outputs": [],
   "source": []
  },
  {
   "cell_type": "code",
   "execution_count": null,
   "id": "9360cf3a-5b1d-40c1-a457-c2523ebba0a9",
   "metadata": {},
   "outputs": [],
   "source": [
    "# from sklearn.metrics import accuracy_score, confusion_matrix"
   ]
  },
  {
   "cell_type": "code",
   "execution_count": null,
   "id": "3968ccdf-40bc-4907-90fb-bfdb080f22b8",
   "metadata": {},
   "outputs": [],
   "source": [
    "# accuracy_score(y_pred, y_test)"
   ]
  }
 ],
 "metadata": {
  "kernelspec": {
   "display_name": "Python 3 (ipykernel)",
   "language": "python",
   "name": "python3"
  },
  "language_info": {
   "codemirror_mode": {
    "name": "ipython",
    "version": 3
   },
   "file_extension": ".py",
   "mimetype": "text/x-python",
   "name": "python",
   "nbconvert_exporter": "python",
   "pygments_lexer": "ipython3",
   "version": "3.9.12"
  }
 },
 "nbformat": 4,
 "nbformat_minor": 5
}
