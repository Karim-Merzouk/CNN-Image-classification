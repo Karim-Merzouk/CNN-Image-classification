{
 "cells": [
  {
   "cell_type": "code",
   "execution_count": 1,
   "id": "912058b3-26fe-4fab-9177-f03bac874d97",
   "metadata": {},
   "outputs": [
    {
     "name": "stdout",
     "output_type": "stream",
     "text": [
      "time: 0 ns (started: 2024-07-10 14:01:13 +01:00)\n"
     ]
    }
   ],
   "source": [
    "#Data:images\n",
    "# Download manually images from google\n",
    "#download dataset from kaggle.Com\n",
    "#build an image web crawler\n",
    "#Use python librairies to scrape images.\n",
    "\n",
    "\n",
    "\n",
    "# !pip install ipython-autotime\n",
    "%load_ext autotime\n"
   ]
  },
  {
   "cell_type": "code",
   "execution_count": 2,
   "id": "4b3c3f3a-4bcc-47f5-b508-1456b3363da9",
   "metadata": {},
   "outputs": [
    {
     "name": "stdout",
     "output_type": "stream",
     "text": [
      "time: 0 ns (started: 2024-07-10 14:01:13 +01:00)\n"
     ]
    }
   ],
   "source": [
    "# !pip install bing_image_downloader"
   ]
  },
  {
   "cell_type": "code",
   "execution_count": 3,
   "id": "6ce026e0-89c6-485b-9dfd-df7b0d1921ad",
   "metadata": {},
   "outputs": [
    {
     "name": "stdout",
     "output_type": "stream",
     "text": [
      "time: 0 ns (started: 2024-07-10 14:01:13 +01:00)\n"
     ]
    }
   ],
   "source": [
    "# !mkdir samples\n"
   ]
  },
  {
   "cell_type": "code",
   "execution_count": 4,
   "id": "f4ee9583-016f-4306-afda-c1913e106704",
   "metadata": {},
   "outputs": [
    {
     "name": "stdout",
     "output_type": "stream",
     "text": [
      "time: 15 ms (started: 2024-07-10 14:01:13 +01:00)\n"
     ]
    }
   ],
   "source": [
    "from bing_image_downloader import downloader \n",
    "# downloader.download(\"Cats\", limit = 500,output_dir= 'samples')\n",
    "# downloader.download(\"Dogs\", limit = 250,output_dir= 'samples')\n",
    "# downloader.download(\"Rabbits\", limit = 150,output_dir= 'samples')"
   ]
  },
  {
   "cell_type": "code",
   "execution_count": 5,
   "id": "6a4da52c-edd3-4e6b-959f-61fa0eda8e3b",
   "metadata": {},
   "outputs": [
    {
     "name": "stdout",
     "output_type": "stream",
     "text": [
      "time: 0 ns (started: 2024-07-10 14:01:13 +01:00)\n"
     ]
    }
   ],
   "source": [
    "# from bing_image_downloader import downloader \n",
    "\n"
   ]
  },
  {
   "cell_type": "code",
   "execution_count": 6,
   "id": "e3dce1c1-820c-4265-baba-e6ed172605e3",
   "metadata": {},
   "outputs": [
    {
     "name": "stdout",
     "output_type": "stream",
     "text": [
      "time: 0 ns (started: 2024-07-10 14:01:13 +01:00)\n"
     ]
    }
   ],
   "source": [
    "# from bing_image_downloader import downloader \n",
    "\n"
   ]
  },
  {
   "cell_type": "code",
   "execution_count": 7,
   "id": "91b4fb02-38b6-4e85-97f3-c2f7cf913138",
   "metadata": {},
   "outputs": [
    {
     "name": "stdout",
     "output_type": "stream",
     "text": [
      "time: 1.55 s (started: 2024-07-10 14:01:13 +01:00)\n"
     ]
    }
   ],
   "source": [
    "#Preprocessing\n",
    "\n",
    "import os\n",
    "import matplotlib.pyplot as plt\n",
    "import numpy as np \n",
    "from skimage.io import imread\n",
    "from skimage.transform  import resize\n",
    "\n"
   ]
  },
  {
   "cell_type": "code",
   "execution_count": null,
   "id": "5d26be54-7596-4f11-9dde-d328db62ede2",
   "metadata": {},
   "outputs": [],
   "source": []
  },
  {
   "cell_type": "code",
   "execution_count": 8,
   "id": "2ef3cd93-7149-4dc7-a566-51e6ce538066",
   "metadata": {},
   "outputs": [
    {
     "name": "stdout",
     "output_type": "stream",
     "text": [
      "time: 4min 48s (started: 2024-07-10 14:01:15 +01:00)\n"
     ]
    }
   ],
   "source": [
    "\n",
    "#1- resizing\n",
    "#2-applatir(flatten)\n",
    "target= []\n",
    "images= []\n",
    "flat_data = []\n",
    "\n",
    "\n",
    "DATADIR = 'samples/'\n",
    "CATEGORIES = ['Cats', 'Dogs', 'Rabbits']\n",
    "\n",
    "for category in CATEGORIES: \n",
    "    class_num = CATEGORIES.index(category)\n",
    "    path = os.path.join(DATADIR, category)\n",
    "    \n",
    "    for img in os.listdir(path):\n",
    "        \n",
    "        # check file extension\n",
    "        if img.endswith('.jpg') or img.endswith('.jpeg') or img.endswith('.png'):\n",
    "            try:\n",
    "                img_array = imread(os.path.join(path, img))\n",
    "                # print(img_array)\n",
    "                #plt.imshow(img_array)\n",
    "\n",
    "                # resize image to (100, 100) and flatten\n",
    "                img_resized = resize(img_array, (150, 150,3))#normalizes the value from 0 to 1\n",
    "                flat_img = img_resized.flatten()\n",
    "                # append flattened image to list\n",
    "                flat_data.append(flat_img)\n",
    "                images.append(img_resized)\n",
    "                target.append(class_num)\n",
    "            except Exception as e:\n",
    "                print(f\"Error reading file: {img}. {e}\")\n",
    "\n"
   ]
  },
  {
   "cell_type": "code",
   "execution_count": 9,
   "id": "b1b1e886-d3c7-411e-9166-e7cba99f4553",
   "metadata": {},
   "outputs": [
    {
     "name": "stdout",
     "output_type": "stream",
     "text": [
      "time: 344 ms (started: 2024-07-10 14:06:03 +01:00)\n"
     ]
    }
   ],
   "source": [
    "flat_data= np.array(flat_data)\n",
    "target = np.array(target)\n",
    "images = np.array(images)"
   ]
  },
  {
   "cell_type": "code",
   "execution_count": 10,
   "id": "479253cc-dd9b-4ddd-aa11-dd8418e559a2",
   "metadata": {},
   "outputs": [
    {
     "data": {
      "text/plain": [
       "67500"
      ]
     },
     "execution_count": 10,
     "metadata": {},
     "output_type": "execute_result"
    },
    {
     "name": "stdout",
     "output_type": "stream",
     "text": [
      "time: 16 ms (started: 2024-07-10 14:06:03 +01:00)\n"
     ]
    }
   ],
   "source": [
    "len(flat_data[0]) #150*150*3"
   ]
  },
  {
   "cell_type": "raw",
   "id": "71b105d6-4470-47fc-bd9b-53f2d2b51a0d",
   "metadata": {},
   "source": []
  },
  {
   "cell_type": "code",
   "execution_count": 11,
   "id": "0ed5fb3d-e37b-43e1-9d0f-79de67d24331",
   "metadata": {},
   "outputs": [
    {
     "name": "stdout",
     "output_type": "stream",
     "text": [
      "time: 0 ns (started: 2024-07-10 14:06:03 +01:00)\n"
     ]
    }
   ],
   "source": [
    "input_shape= (150, 150, 3)"
   ]
  },
  {
   "cell_type": "code",
   "execution_count": 12,
   "id": "d5d9e196-658d-4928-a973-1aee4f11f1ca",
   "metadata": {},
   "outputs": [
    {
     "name": "stdout",
     "output_type": "stream",
     "text": [
      "time: 5.17 s (started: 2024-07-10 14:06:03 +01:00)\n"
     ]
    }
   ],
   "source": [
    "import tensorflow as tf\n",
    "from tensorflow.keras.models import Sequential\n",
    "from tensorflow.keras.layers import Conv2D, MaxPooling2D, Flatten, Dense\n",
    "\n",
    "\n"
   ]
  },
  {
   "cell_type": "code",
   "execution_count": 13,
   "id": "28d75723-e9ee-49bd-95d9-3779cfb18c22",
   "metadata": {},
   "outputs": [
    {
     "name": "stdout",
     "output_type": "stream",
     "text": [
      "X_train shape: (632, 67500), y_train shape: (632,)\n",
      "X_test shape: (158, 67500), y_test shape: (158,)\n",
      "time: 281 ms (started: 2024-07-10 14:06:08 +01:00)\n"
     ]
    }
   ],
   "source": [
    "import numpy as np\n",
    "from sklearn.model_selection import train_test_split\n",
    "\n",
    "\n",
    "X = flat_data\n",
    "y = np.array(target)\n",
    "\n",
    "# Split the data into training and testing sets (typically 80% training, 20% testing)\n",
    "X_train, X_test, y_train, y_test = train_test_split(X, y, test_size=0.2, random_state=42)\n",
    "\n",
    "\n",
    "print(f\"X_train shape: {X_train.shape}, y_train shape: {y_train.shape}\")\n",
    "print(f\"X_test shape: {X_test.shape}, y_test shape: {y_test.shape}\")\n"
   ]
  },
  {
   "cell_type": "code",
   "execution_count": null,
   "id": "808d4cba-6710-4287-8120-b8f04d42aa6a",
   "metadata": {},
   "outputs": [],
   "source": []
  },
  {
   "cell_type": "code",
   "execution_count": null,
   "id": "32cbc616-8bdd-40a3-bd02-e17b8072e522",
   "metadata": {},
   "outputs": [],
   "source": []
  },
  {
   "cell_type": "code",
   "execution_count": 14,
   "id": "5ccb4b86-ed80-41bf-862c-5cb72af7298f",
   "metadata": {},
   "outputs": [
    {
     "name": "stdout",
     "output_type": "stream",
     "text": [
      "Model: \"sequential\"\n",
      "_________________________________________________________________\n",
      " Layer (type)                Output Shape              Param #   \n",
      "=================================================================\n",
      " conv2d (Conv2D)             (None, 148, 148, 32)      896       \n",
      "                                                                 \n",
      " max_pooling2d (MaxPooling2D  (None, 74, 74, 32)       0         \n",
      " )                                                               \n",
      "                                                                 \n",
      " conv2d_1 (Conv2D)           (None, 72, 72, 64)        18496     \n",
      "                                                                 \n",
      " max_pooling2d_1 (MaxPooling  (None, 36, 36, 64)       0         \n",
      " 2D)                                                             \n",
      "                                                                 \n",
      " conv2d_2 (Conv2D)           (None, 34, 34, 128)       73856     \n",
      "                                                                 \n",
      " max_pooling2d_2 (MaxPooling  (None, 17, 17, 128)      0         \n",
      " 2D)                                                             \n",
      "                                                                 \n",
      " flatten (Flatten)           (None, 36992)             0         \n",
      "                                                                 \n",
      " dense (Dense)               (None, 128)               4735104   \n",
      "                                                                 \n",
      " dense_1 (Dense)             (None, 3)                 387       \n",
      "                                                                 \n",
      "=================================================================\n",
      "Total params: 4,828,739\n",
      "Trainable params: 4,828,739\n",
      "Non-trainable params: 0\n",
      "_________________________________________________________________\n",
      "time: 219 ms (started: 2024-07-10 14:06:08 +01:00)\n"
     ]
    }
   ],
   "source": [
    "from tensorflow.keras.models import Sequential\n",
    "from tensorflow.keras.layers import Dense, Conv2D, MaxPooling2D, Flatten\n",
    "\n",
    "X_train_images = X_train.reshape(-1, 150, 150, 3)\n",
    "X_test_images = X_test.reshape(-1, 150, 150, 3)\n",
    "from tensorflow.keras.regularizers import l2\n",
    "\n",
    "\n",
    "\n",
    "model = Sequential([\n",
    "    Conv2D(32, (3, 3), activation='relu',  input_shape=(150, 150, 3)),\n",
    "    MaxPooling2D((2, 2)),\n",
    "    Conv2D(64, (3, 3), activation='relu'),\n",
    "    MaxPooling2D((2, 2)),\n",
    "    Conv2D(128, (3, 3), activation='relu'),\n",
    "    MaxPooling2D((2, 2)),\n",
    "    Flatten(),\n",
    "    Dense(128, activation='relu', kernel_regularizer=l2(0.001)),\n",
    "    Dense(3, activation='softmax', ) \n",
    "])\n",
    "\n",
    "\n",
    "model.compile(optimizer='adam',\n",
    "              loss='sparse_categorical_crossentropy',\n",
    "              metrics=['accuracy'])\n",
    "\n",
    "\n",
    "model.summary()\n"
   ]
  },
  {
   "cell_type": "code",
   "execution_count": 15,
   "id": "8336611f-e2db-4dc9-9094-16daf352dac9",
   "metadata": {},
   "outputs": [
    {
     "name": "stdout",
     "output_type": "stream",
     "text": [
      "Epoch 1/25\n",
      "20/20 [==============================] - 12s 544ms/step - loss: 1.3710 - accuracy: 0.3576 - val_loss: 1.2302 - val_accuracy: 0.4114\n",
      "Epoch 2/25\n",
      "20/20 [==============================] - 11s 532ms/step - loss: 1.1855 - accuracy: 0.4209 - val_loss: 1.1779 - val_accuracy: 0.3608\n",
      "Epoch 3/25\n",
      "20/20 [==============================] - 11s 535ms/step - loss: 1.0973 - accuracy: 0.5063 - val_loss: 1.1096 - val_accuracy: 0.5253\n",
      "Epoch 4/25\n",
      "20/20 [==============================] - 11s 548ms/step - loss: 0.9483 - accuracy: 0.5870 - val_loss: 1.1139 - val_accuracy: 0.5190\n",
      "Epoch 5/25\n",
      "20/20 [==============================] - 12s 597ms/step - loss: 0.7316 - accuracy: 0.7342 - val_loss: 1.1201 - val_accuracy: 0.5506\n",
      "Epoch 6/25\n",
      "20/20 [==============================] - 11s 575ms/step - loss: 0.5699 - accuracy: 0.8006 - val_loss: 1.3559 - val_accuracy: 0.5380\n",
      "Epoch 7/25\n",
      "20/20 [==============================] - 11s 570ms/step - loss: 0.4760 - accuracy: 0.8481 - val_loss: 1.5082 - val_accuracy: 0.5949\n",
      "Epoch 8/25\n",
      "20/20 [==============================] - 12s 598ms/step - loss: 0.4127 - accuracy: 0.8797 - val_loss: 1.9145 - val_accuracy: 0.5506\n",
      "Epoch 9/25\n",
      "20/20 [==============================] - 11s 560ms/step - loss: 0.4252 - accuracy: 0.8829 - val_loss: 1.6360 - val_accuracy: 0.5759\n",
      "Epoch 10/25\n",
      "20/20 [==============================] - 12s 586ms/step - loss: 0.3453 - accuracy: 0.9304 - val_loss: 1.8172 - val_accuracy: 0.5949\n",
      "Epoch 11/25\n",
      "20/20 [==============================] - 11s 557ms/step - loss: 0.2646 - accuracy: 0.9494 - val_loss: 1.7819 - val_accuracy: 0.5886\n",
      "Epoch 12/25\n",
      "20/20 [==============================] - 11s 535ms/step - loss: 0.2823 - accuracy: 0.9430 - val_loss: 2.1237 - val_accuracy: 0.5443\n",
      "Epoch 13/25\n",
      "20/20 [==============================] - 11s 545ms/step - loss: 0.2729 - accuracy: 0.9589 - val_loss: 1.8377 - val_accuracy: 0.5823\n",
      "Epoch 14/25\n",
      "20/20 [==============================] - 11s 570ms/step - loss: 0.2236 - accuracy: 0.9699 - val_loss: 2.5132 - val_accuracy: 0.6139\n",
      "Epoch 15/25\n",
      "20/20 [==============================] - 11s 558ms/step - loss: 0.2451 - accuracy: 0.9620 - val_loss: 2.0402 - val_accuracy: 0.6076\n",
      "Epoch 16/25\n",
      "20/20 [==============================] - 11s 529ms/step - loss: 0.2035 - accuracy: 0.9715 - val_loss: 2.6617 - val_accuracy: 0.5886\n",
      "Epoch 17/25\n",
      "20/20 [==============================] - 10s 510ms/step - loss: 0.1773 - accuracy: 0.9873 - val_loss: 2.3807 - val_accuracy: 0.6013\n",
      "Epoch 18/25\n",
      "20/20 [==============================] - 11s 537ms/step - loss: 0.1500 - accuracy: 0.9842 - val_loss: 2.6157 - val_accuracy: 0.5696\n",
      "Epoch 19/25\n",
      "20/20 [==============================] - 10s 514ms/step - loss: 0.1416 - accuracy: 0.9889 - val_loss: 2.8348 - val_accuracy: 0.6076\n",
      "Epoch 20/25\n",
      "20/20 [==============================] - 11s 530ms/step - loss: 0.2118 - accuracy: 0.9778 - val_loss: 2.6875 - val_accuracy: 0.5570\n",
      "Epoch 21/25\n",
      "20/20 [==============================] - 10s 516ms/step - loss: 0.2434 - accuracy: 0.9620 - val_loss: 2.2886 - val_accuracy: 0.5696\n",
      "Epoch 22/25\n",
      "20/20 [==============================] - 10s 527ms/step - loss: 0.1719 - accuracy: 0.9778 - val_loss: 2.3361 - val_accuracy: 0.5886\n",
      "Epoch 23/25\n",
      "20/20 [==============================] - 10s 521ms/step - loss: 0.2197 - accuracy: 0.9684 - val_loss: 2.8740 - val_accuracy: 0.5506\n",
      "Epoch 24/25\n",
      "20/20 [==============================] - 11s 538ms/step - loss: 0.2203 - accuracy: 0.9684 - val_loss: 2.6058 - val_accuracy: 0.5759\n",
      "Epoch 25/25\n",
      "20/20 [==============================] - 10s 518ms/step - loss: 0.1767 - accuracy: 0.9810 - val_loss: 3.3697 - val_accuracy: 0.6013\n",
      "5/5 - 1s - loss: 3.3697 - accuracy: 0.6013 - 651ms/epoch - 130ms/step\n",
      "Test accuracy: 0.6012658476829529\n",
      "time: 4min 34s (started: 2024-07-10 14:06:09 +01:00)\n"
     ]
    }
   ],
   "source": [
    "# Train the model\n",
    "history = model.fit(X_train_images, y_train, epochs=25, validation_data=(X_test_images, y_test))\n",
    "\n",
    "# Evaluate the model\n",
    "test_loss, test_acc = model.evaluate(X_test_images, y_test, verbose=2)\n",
    "print(f'Test accuracy: {test_acc}')\n"
   ]
  },
  {
   "cell_type": "code",
   "execution_count": 24,
   "id": "77f7c208-ecb4-498c-bb3c-479c9d39d8f0",
   "metadata": {},
   "outputs": [
    {
     "data": {
      "image/png": "[encoded data removed]",
      "text/plain": [
       "<Figure size 1200x400 with 2 Axes>"
      ]
     },
     "metadata": {},
     "output_type": "display_data"
    },
    {
     "name": "stdout",
     "output_type": "stream",
     "text": [
      "5/5 - 1s - loss: 3.3697 - accuracy: 0.6013 - 1s/epoch - 221ms/step\n",
      "Test accuracy: 0.6012658476829529\n",
      "Test loss: 3.369687557220459\n",
      "time: 2.73 s (started: 2024-07-10 14:20:00 +01:00)\n"
     ]
    }
   ],
   "source": [
    "# Plotting training history\n",
    "plt.figure(figsize=(12, 4))\n",
    "\n",
    "\n",
    "plt.subplot(1, 2, 1)\n",
    "plt.plot(history.history['accuracy'], label='Train Accuracy')\n",
    "plt.plot(history.history['val_accuracy'], label='Validation Accuracy')\n",
    "plt.legend()\n",
    "plt.xlabel('Epoch')\n",
    "plt.ylabel('Accuracy')\n",
    "plt.title('Training and Validation Accuracy')\n",
    "\n",
    "plt.subplot(1, 2, 2)\n",
    "plt.plot(history.history['loss'], label='Train Loss')\n",
    "plt.plot(history.history['val_loss'], label='Validation Loss')\n",
    "plt.legend()\n",
    "plt.xlabel('Epoch')\n",
    "plt.ylabel('Loss')\n",
    "plt.title('Training and Validation Loss')\n",
    "\n",
    "plt.show()\n",
    "\n",
    "test_loss, test_acc = model.evaluate(X_test_images, y_test, verbose=2)\n",
    "print(f'Test accuracy: {test_acc}')\n",
    "print(f'Test loss: {test_loss}')\n"
   ]
  },
  {
   "cell_type": "code",
   "execution_count": 17,
   "id": "ddacec35-9fb1-4c4f-ad3b-784497ed675d",
   "metadata": {},
   "outputs": [
    {
     "name": "stdout",
     "output_type": "stream",
     "text": [
      "time: 0 ns (started: 2024-07-10 14:10:43 +01:00)\n"
     ]
    }
   ],
   "source": [
    "# from tensorflow.keras.models import Sequential\n",
    "# from tensorflow.keras.layers import Dense\n",
    "\n",
    "# # Define the input shape\n",
    "# input_shape = (67500,)\n",
    "\n",
    "# # Define the number of classes\n",
    "# num_classes = 3\n",
    "\n",
    "# # Define the model architecture\n",
    "# model = Sequential()\n",
    "# model.add(Dense(64, activation='relu', input_shape=input_shape))\n",
    "# model.add(Dense(32, activation='relu'))\n",
    "# model.add(Dense(32, activation='relu'))\n",
    "# model.add(Dense(num_classes, activation='softmax'))\n",
    "\n",
    "# # Compile the model\n",
    "# model.compile(loss='sparse_categorical_crossentropy',optimizer='adam', metrics=['accuracy'])\n",
    "\n",
    "# # Fit the model to the training data\n",
    "# history = model.fit(x_train, y_train, epochs=20,validation_split=0.2)"
   ]
  },
  {
   "cell_type": "code",
   "execution_count": 18,
   "id": "4b1b301e-bbdc-414e-821d-4a192e61c513",
   "metadata": {},
   "outputs": [
    {
     "name": "stdout",
     "output_type": "stream",
     "text": [
      "time: 0 ns (started: 2024-07-10 14:10:43 +01:00)\n"
     ]
    }
   ],
   "source": [
    "# from tensorflow.keras.models import Sequential\n",
    "# from tensorflow.keras.layers import Conv2D, MaxPooling2D, Flatten, Dense, Dropout\n",
    "# from tensorflow.keras.optimizers import Adam\n",
    "# from tensorflow.keras.preprocessing.image import ImageDataGenerator\n",
    "\n",
    "# # set the input shape\n",
    "# input_shape = (150, 150, 3)\n",
    "\n",
    "# # create the model\n",
    "# model = Sequential()\n",
    "\n",
    "# # add convolutional layers\n",
    "# model.add(Conv2D(32, kernel_size=(3, 3), activation='relu', input_shape=input_shape))\n",
    "# model.add(MaxPooling2D(pool_size=(2, 2)))\n",
    "# model.add(Conv2D(64, kernel_size=(3, 3), activation='relu'))\n",
    "# model.add(MaxPooling2D(pool_size=(2, 2)))\n",
    "# model.add(Conv2D(128, kernel_size=(3, 3), activation='relu'))\n",
    "# model.add(MaxPooling2D(pool_size=(2, 2)))\n",
    "\n",
    "# # add flatten layer\n",
    "# model.add(Flatten())\n",
    "\n",
    "# # add dense layers with dropout\n",
    "# model.add(Dense(256, activation='relu'))\n",
    "# model.add(Dropout(0.5))\n",
    "# model.add(Dense(128, activation='relu'))\n",
    "# model.add(Dropout(0.5))\n",
    "\n",
    "# # add output layer\n",
    "# model.add(Dense(3, activation='softmax'))\n",
    "\n",
    "# # compile the model\n",
    "# model.compile(loss='categorical_crossentropy', optimizer=Adam(learning_rate=0.001), metrics=['accuracy'])\n",
    "\n",
    "# # create data generators\n",
    "# train_datagen = ImageDataGenerator(rescale=1./255, shear_range=0.2, zoom_range=0.2, horizontal_flip=True)\n",
    "# test_datagen = ImageDataGenerator(rescale=1./255)\n",
    "# from keras.utils import np_utils\n",
    "\n",
    "# # reshape x_train and x_test\n",
    "# x_train = x_train.reshape(x_train.shape[0], 150, 150, 3)\n",
    "# x_test = x_test.reshape(x_test.shape[0], 150, 150, 3)\n",
    "\n",
    "# # convert y_train and y_test to categorical\n",
    "# y_train = np_utils.to_categorical(y_train, num_classes=3)\n",
    "# y_test = np_utils.to_categorical(y_test, num_classes=3)\n",
    "# # create train and test generators\n",
    "# train_generator = train_datagen.flow(x_train, y_train, batch_size=32)\n",
    "# test_generator = test_datagen.flow(x_test, y_test, batch_size=32)\n",
    "\n",
    "\n",
    "# # train the model\n",
    "# history = model.fit(train_generator, steps_per_epoch=len(x_train)//32, epochs=30, validation_data=test_generator, validation_steps=len(x_test)//32)"
   ]
  },
  {
   "cell_type": "code",
   "execution_count": null,
   "id": "4f293e70-9fb2-44c2-85c0-3659c15bf62d",
   "metadata": {},
   "outputs": [],
   "source": [
    "\n",
    "\n"
   ]
  },
  {
   "cell_type": "code",
   "execution_count": null,
   "id": "e0218251-27e3-42d0-a806-fe85e860bb76",
   "metadata": {},
   "outputs": [],
   "source": []
  },
  {
   "cell_type": "code",
   "execution_count": null,
   "id": "54c84f03-63a6-4ccc-b36e-05b96848d61e",
   "metadata": {},
   "outputs": [],
   "source": []
  },
  {
   "cell_type": "code",
   "execution_count": 19,
   "id": "9360cf3a-5b1d-40c1-a457-c2523ebba0a9",
   "metadata": {},
   "outputs": [
    {
     "name": "stdout",
     "output_type": "stream",
     "text": [
      "time: 0 ns (started: 2024-07-10 14:10:43 +01:00)\n"
     ]
    }
   ],
   "source": [
    "# from sklearn.metrics import accuracy_score, confusion_matrix"
   ]
  },
  {
   "cell_type": "code",
   "execution_count": 20,
   "id": "3968ccdf-40bc-4907-90fb-bfdb080f22b8",
   "metadata": {},
   "outputs": [
    {
     "name": "stdout",
     "output_type": "stream",
     "text": [
      "time: 0 ns (started: 2024-07-10 14:10:43 +01:00)\n"
     ]
    }
   ],
   "source": [
    "# accuracy_score(y_pred, y_test)"
   ]
  }
 ],
 "metadata": {
  "kernelspec": {
   "display_name": "Python 3 (ipykernel)",
   "language": "python",
   "name": "python3"
  },
  "language_info": {
   "codemirror_mode": {
    "name": "ipython",
    "version": 3
   },
   "file_extension": ".py",
   "mimetype": "text/x-python",
   "name": "python",
   "nbconvert_exporter": "python",
   "pygments_lexer": "ipython3",
   "version": "3.9.12"
  }
 },
 "nbformat": 4,
 "nbformat_minor": 5
}
